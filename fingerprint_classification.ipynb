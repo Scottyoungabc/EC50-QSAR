{
 "cells": [
  {
   "cell_type": "code",
   "execution_count": 1,
   "metadata": {
    "scrolled": true
   },
   "outputs": [],
   "source": [
    "#loading packages\n",
    "import pandas as pd\n",
    "import numpy as np\n",
    "import csv\n",
    "import os\n",
    "import matplotlib.pyplot as plt\n",
    "from sklearn.model_selection import train_test_split\n",
    "from sklearn.preprocessing import StandardScaler, MinMaxScaler\n",
    "from sklearn.model_selection import cross_validate\n",
    "%matplotlib inline\n",
    "\n",
    "from pprint import pprint\n",
    "from rdkit import Chem\n",
    "from mordred import Calculator, descriptors\n",
    "from rdkit.Chem import AllChem\n",
    "from rdkit.Chem.EState import Fingerprinter\n",
    "from rdkit.Chem import Descriptors\n",
    "from rdkit.Chem.rdmolops import RDKFingerprint"
   ]
  },
  {
   "cell_type": "code",
   "execution_count": 17,
   "metadata": {
    "scrolled": true
   },
   "outputs": [
    {
     "name": "stdout",
     "output_type": "stream",
     "text": [
      "no bad smiles\n",
      "\n",
      "34\n"
     ]
    }
   ],
   "source": [
    "#loading data\n",
    "directory = 'D:/jupyter_workspace/wmj'\n",
    "# paperdat = pd.read_csv(\"2014acdata.csv\"),  ##remove EC50 value larger than 500 in wmj_smiles2\n",
    "filename = 'wmj_smiles2.csv'\n",
    "data = pd.read_csv(os.path.join(directory,filename))\n",
    "\n",
    "#define labels and the variables\n",
    "###good smiles check ahead of every mds calculation,check the smiles is good canonical smiles \n",
    "smi = data['smiles']\n",
    "goodsmi =[]\n",
    "for a in smi:\n",
    "    try:\n",
    "        b = Chem.CanonSmiles(a)\n",
    "        goodsmi.append(b)\n",
    "    except:\n",
    "        print('Invalid SMILES:',b)\n",
    "# goodsmi\n",
    "print('no bad smiles\\n')\n",
    "\n",
    "data['Mol'] = data['smiles'].apply(Chem.MolFromSmiles)\n",
    "num_mols = len(data)\n",
    "print(num_mols)"
   ]
  },
  {
   "cell_type": "code",
   "execution_count": 5,
   "metadata": {
    "scrolled": true
   },
   "outputs": [
    {
     "name": "stdout",
     "output_type": "stream",
     "text": [
      "no bad smiles\n",
      "\n",
      "34\n"
     ]
    }
   ],
   "source": [
    "# #define labels and the variables\n",
    "# ###good smiles check ahead of every mds calculation,check the smiles is good canonical smiles \n",
    "# smi = data['smiles']\n",
    "# goodsmi =[]\n",
    "# for a in smi:\n",
    "#     try:\n",
    "#         b = Chem.CanonSmiles(a)\n",
    "#         goodsmi.append(b)\n",
    "#     except:\n",
    "#         print('Invalid SMILES:',b)\n",
    "# # goodsmi\n",
    "# print('no bad smiles\\n')\n",
    "\n",
    "# data['Mol'] = data['smiles'].apply(Chem.MolFromSmiles)\n",
    "# num_mols = len(data)\n",
    "# print(len(data))"
   ]
  },
  {
   "cell_type": "code",
   "execution_count": 18,
   "metadata": {
    "scrolled": true
   },
   "outputs": [],
   "source": [
    "#Create X and y\n",
    "#Convert to Numpy arrays\n",
    "y = data['category'].values"
   ]
  },
  {
   "cell_type": "code",
   "execution_count": 19,
   "metadata": {
    "scrolled": true
   },
   "outputs": [],
   "source": [
    "from rdkit.Chem.AtomPairs.Sheridan import GetBPFingerprint\n",
    "from rdkit.Chem.EState.Fingerprinter import FingerprintMol\n",
    "from rdkit.Avalon.pyAvalonTools import GetAvalonFP #GetAvalonCountFP  #int vector version\n",
    "from rdkit.Chem.AllChem import  GetMorganFingerprintAsBitVect, GetErGFingerprint,GetHashedAtomPairFingerprintAsBitVect,GetHashedTopologicalTorsionFingerprintAsBitVect\n",
    "from rdkit.DataStructs.cDataStructs import ConvertToNumpyArray\n",
    "import rdkit.DataStructs.cDataStructs\n",
    "\n",
    "def ExplicitBitVect_to_NumpyArray(bitvector):\n",
    "    bitstring = bitvector.ToBitString()\n",
    "    intmap = map(int, bitstring)\n",
    "    return np.array(list(intmap))\n",
    "\n",
    "\n",
    "class fingerprint():\n",
    "    def __init__(self, fp_fun, name):\n",
    "        self.fp_fun = fp_fun\n",
    "        self.name = name\n",
    "        self.x = []\n",
    "\n",
    "    def apply_fp(self, mols):\n",
    "        for mol in mols:\n",
    "            fp = self.fp_fun(mol)\n",
    "            if isinstance(fp, tuple):\n",
    "                fp = np.array(list(fp[0]))\n",
    "            if isinstance(fp, rdkit.DataStructs.cDataStructs.ExplicitBitVect):\n",
    "                fp = ExplicitBitVect_to_NumpyArray(fp)\n",
    "            if isinstance(fp,rdkit.DataStructs.cDataStructs.IntSparseIntVect):\n",
    "                fp = np.array(list(fp))\n",
    "\n",
    "            self.x += [fp]\n",
    "\n",
    "            if (str(type(self.x[0])) != \"<class 'numpy.ndarray'>\"):\n",
    "                print(\"WARNING: type for \", self.name, \"is \", type(self.x[0]))\n",
    "\n",
    "def make_fingerprints(length = 512, verbose=False):\n",
    "    fp_list = [\n",
    "         #fingerprint(lambda x : GetBPFingerprint(x, fpfn=AtomPair), \n",
    "         #            \"Physiochemical properties (1996)\"), ##NOTE: takes a long time to compute\n",
    "         fingerprint(lambda x : GetHashedAtomPairFingerprintAsBitVect(x, nBits = length),\n",
    "                    \" Atom pair (1985)\"),\n",
    "         fingerprint(lambda x : GetHashedTopologicalTorsionFingerprintAsBitVect(x, nBits = length),\n",
    "                     \"Topological torsion (1987)\"),\n",
    "         fingerprint(lambda x : GetMorganFingerprintAsBitVect(x, 2, nBits = length),\n",
    "                     \"Morgan circular \"),\n",
    "         fingerprint(FingerprintMol, \"Estate (1995)\"),\n",
    "         fingerprint(lambda x: GetAvalonFP(x, nBits=length),\n",
    "                    \"Avalon bit based (2006)\"),\n",
    "         fingerprint(lambda x: np.append(GetAvalonFP(x, nBits=length), Descriptors.MolWt(x)),\n",
    "                    \"Avalon+mol. weight\"),\n",
    "         fingerprint(lambda x: GetErGFingerprint(x), \"ErG fingerprint (2006)\"),\n",
    "         fingerprint(lambda x : RDKFingerprint(x, fpSize=length),\n",
    "                     \"RDKit fingerprint\")\n",
    "    ]\n",
    "\n",
    "    for fp in fp_list:\n",
    "        if (verbose): print(\"doing\", fp.name)\n",
    "        fp.apply_fp(list(data['Mol']))\n",
    "\n",
    "    return fp_list\n",
    "\n",
    "fp_list = make_fingerprints()"
   ]
  },
  {
   "cell_type": "code",
   "execution_count": 20,
   "metadata": {
    "scrolled": true
   },
   "outputs": [
    {
     "name": "stdout",
     "output_type": "stream",
     "text": [
      "doing   Atom pair (1985)\n"
     ]
    },
    {
     "name": "stderr",
     "output_type": "stream",
     "text": [
      "E:\\anaconda\\envs\\MRMdatabase\\lib\\site-packages\\sklearn\\model_selection\\_split.py:672: UserWarning: The least populated class in y has only 7 members, which is less than n_splits=10.\n",
      "  % (min_groups, self.n_splits)), UserWarning)\n"
     ]
    },
    {
     "name": "stdout",
     "output_type": "stream",
     "text": [
      "doing  Topological torsion (1987)\n"
     ]
    },
    {
     "name": "stderr",
     "output_type": "stream",
     "text": [
      "E:\\anaconda\\envs\\MRMdatabase\\lib\\site-packages\\sklearn\\model_selection\\_split.py:672: UserWarning: The least populated class in y has only 7 members, which is less than n_splits=10.\n",
      "  % (min_groups, self.n_splits)), UserWarning)\n"
     ]
    },
    {
     "name": "stdout",
     "output_type": "stream",
     "text": [
      "doing  Morgan circular \n"
     ]
    },
    {
     "name": "stderr",
     "output_type": "stream",
     "text": [
      "E:\\anaconda\\envs\\MRMdatabase\\lib\\site-packages\\sklearn\\model_selection\\_split.py:672: UserWarning: The least populated class in y has only 7 members, which is less than n_splits=10.\n",
      "  % (min_groups, self.n_splits)), UserWarning)\n"
     ]
    },
    {
     "name": "stdout",
     "output_type": "stream",
     "text": [
      "doing  Estate (1995)\n"
     ]
    },
    {
     "name": "stderr",
     "output_type": "stream",
     "text": [
      "E:\\anaconda\\envs\\MRMdatabase\\lib\\site-packages\\sklearn\\model_selection\\_split.py:672: UserWarning: The least populated class in y has only 7 members, which is less than n_splits=10.\n",
      "  % (min_groups, self.n_splits)), UserWarning)\n"
     ]
    },
    {
     "name": "stdout",
     "output_type": "stream",
     "text": [
      "doing  Avalon bit based (2006)\n"
     ]
    },
    {
     "name": "stderr",
     "output_type": "stream",
     "text": [
      "E:\\anaconda\\envs\\MRMdatabase\\lib\\site-packages\\sklearn\\model_selection\\_split.py:672: UserWarning: The least populated class in y has only 7 members, which is less than n_splits=10.\n",
      "  % (min_groups, self.n_splits)), UserWarning)\n"
     ]
    },
    {
     "name": "stdout",
     "output_type": "stream",
     "text": [
      "doing  Avalon+mol. weight\n"
     ]
    },
    {
     "name": "stderr",
     "output_type": "stream",
     "text": [
      "E:\\anaconda\\envs\\MRMdatabase\\lib\\site-packages\\sklearn\\model_selection\\_split.py:672: UserWarning: The least populated class in y has only 7 members, which is less than n_splits=10.\n",
      "  % (min_groups, self.n_splits)), UserWarning)\n"
     ]
    },
    {
     "name": "stdout",
     "output_type": "stream",
     "text": [
      "doing  ErG fingerprint (2006)\n"
     ]
    },
    {
     "name": "stderr",
     "output_type": "stream",
     "text": [
      "E:\\anaconda\\envs\\MRMdatabase\\lib\\site-packages\\sklearn\\model_selection\\_split.py:672: UserWarning: The least populated class in y has only 7 members, which is less than n_splits=10.\n",
      "  % (min_groups, self.n_splits)), UserWarning)\n"
     ]
    },
    {
     "name": "stdout",
     "output_type": "stream",
     "text": [
      "doing  RDKit fingerprint\n"
     ]
    },
    {
     "name": "stderr",
     "output_type": "stream",
     "text": [
      "E:\\anaconda\\envs\\MRMdatabase\\lib\\site-packages\\sklearn\\model_selection\\_split.py:672: UserWarning: The least populated class in y has only 7 members, which is less than n_splits=10.\n",
      "  % (min_groups, self.n_splits)), UserWarning)\n"
     ]
    },
    {
     "name": "stdout",
     "output_type": "stream",
     "text": [
      "\\begin{tabular}{c c}\n",
      "           name        &  avg accuracy in CV \\\\\n",
      "\\hline\n",
      "              Atom pair (1985) & 0.667 \\\\\n",
      "       Avalon bit based (2006) & 0.667 \\\\\n",
      "            Avalon+mol. weight & 0.667 \\\\\n",
      "              Morgan circular  & 0.692 \\\\\n",
      "             RDKit fingerprint & 0.692 \\\\\n",
      "                 Estate (1995) & 0.717 \\\\\n",
      "        ErG fingerprint (2006) & 0.717 \\\\\n",
      "    Topological torsion (1987) & 0.742 \\\\\n",
      "\\end{tabular}\n"
     ]
    }
   ],
   "source": [
    "from sklearn.model_selection import cross_val_score\n",
    "def test_model_cv(model, x, y, cv=10):\n",
    "    scores = cross_val_score(model, x, y, cv=cv, n_jobs=-1, \n",
    "scoring='accuracy')\n",
    "\n",
    "    return scores.mean()\n",
    "\n",
    "def test_fingerprints(fp_list, model, y, verbose = True):\n",
    "\n",
    "    fingerprint_scores = {}\n",
    "\n",
    "    for fp in fp_list:\n",
    "        if verbose: print(\"doing \", fp.name)\n",
    "        fingerprint_scores[fp.name] = test_model_cv(model, fp.x, y)\n",
    "\n",
    "    sorted_names = sorted(fingerprint_scores, key=fingerprint_scores.__getitem__, reverse=False)\n",
    "\n",
    "    print(\"\\\\begin{tabular}{c c}\")\n",
    "    print(\"           name        &  avg accuracy in CV \\\\\\\\\")\n",
    "    print(\"\\\\hline\")\n",
    "    for i in range(len(sorted_names)):\n",
    "        name = sorted_names[i]\n",
    "        print(\"%30s & %5.3f \\\\\\\\\" % (name, fingerprint_scores[name]))\n",
    "    print(\"\\\\end{tabular}\")\n",
    "\n",
    "    \n",
    "model=RandomForestClassifier(n_estimators=200, max_depth=3,\n",
    "                          random_state=0)\n",
    "test_fingerprints(fp_list,model, y, verbose=True)"
   ]
  },
  {
   "cell_type": "code",
   "execution_count": 21,
   "metadata": {
    "scrolled": true
   },
   "outputs": [],
   "source": [
    "features = fp_list[1].x\n",
    "labels = np.array(y)"
   ]
  },
  {
   "cell_type": "code",
   "execution_count": null,
   "metadata": {
    "scrolled": true
   },
   "outputs": [],
   "source": [
    "# import numpy as np\n",
    "# from rdkit import Chem\n",
    "# from rdkit.Chem import AllChem\n",
    "# from rdkit.Chem import DataStructs\n",
    "# mol = Chem.MolFromSmiles('C1CCCOC1')\n",
    "# fp = AllChem.GetMorganFingerprintAsBitVect(mol, 2, nBits=512)\n",
    "# arr = np.zeros((0,), dtype=np.int8)\n",
    "# arr\n",
    "# DataStructs.ConvertToNumpyArray(fp,arr)\n",
    "# arr"
   ]
  },
  {
   "cell_type": "code",
   "execution_count": null,
   "metadata": {
    "scrolled": true
   },
   "outputs": [],
   "source": [
    "# from rdkit.Chem import DataStructs\n",
    "# fparr=[]\n",
    "# for fp in fplst:\n",
    "#     arr = np.zeros((0,), dtype=int)\n",
    "#     DataStructs.ConvertToNumpyArray(fp,arr)\n",
    "#     print(arr)\n",
    "#     fparr.append(arr)"
   ]
  },
  {
   "cell_type": "code",
   "execution_count": 22,
   "metadata": {
    "scrolled": true
   },
   "outputs": [],
   "source": [
    "#clear dataset and split the data\n",
    "# dataset = {'ID':mydat['ID'], 'MFP':fparr, 'category':mydat['category']}\n",
    "# dataset = pd.DataFrame(dataset, columns = ['ID','MFP','category'])\n",
    "# dataset = dataset.set_index('ID')\n",
    "# features = dataset['MFP']\n",
    "# labels = dataset['category']\n",
    "X_train, X_test, y_train, y_test ,indices_train, indices_test= train_test_split(features, labels, data.index,test_size=0.3, \n",
    "                                                                                 random_state=1)"
   ]
  },
  {
   "cell_type": "markdown",
   "metadata": {},
   "source": [
    "# baseline model with rf，NB classifier"
   ]
  },
  {
   "cell_type": "code",
   "execution_count": 39,
   "metadata": {
    "scrolled": true
   },
   "outputs": [
    {
     "name": "stderr",
     "output_type": "stream",
     "text": [
      "E:\\anaconda\\envs\\MRMdatabase\\lib\\site-packages\\sklearn\\model_selection\\_split.py:672: UserWarning: The least populated class in y has only 7 members, which is less than n_splits=10.\n",
      "  % (min_groups, self.n_splits)), UserWarning)\n",
      "E:\\anaconda\\envs\\MRMdatabase\\lib\\site-packages\\sklearn\\model_selection\\_split.py:672: UserWarning: The least populated class in y has only 7 members, which is less than n_splits=10.\n",
      "  % (min_groups, self.n_splits)), UserWarning)\n",
      "E:\\anaconda\\envs\\MRMdatabase\\lib\\site-packages\\sklearn\\model_selection\\_split.py:672: UserWarning: The least populated class in y has only 7 members, which is less than n_splits=10.\n",
      "  % (min_groups, self.n_splits)), UserWarning)\n",
      "E:\\anaconda\\envs\\MRMdatabase\\lib\\site-packages\\sklearn\\model_selection\\_split.py:672: UserWarning: The least populated class in y has only 7 members, which is less than n_splits=10.\n",
      "  % (min_groups, self.n_splits)), UserWarning)\n"
     ]
    },
    {
     "data": {
      "image/png": "[encoded data removed]",
      "text/plain": [
       "<Figure size 432x288 with 1 Axes>"
      ]
     },
     "metadata": {
      "needs_background": "light"
     },
     "output_type": "display_data"
    }
   ],
   "source": [
    "from sklearn.naive_bayes import MultinomialNB\n",
    "from sklearn.linear_model import LogisticRegression\n",
    "from sklearn.ensemble import RandomForestClassifier\n",
    "from sklearn.svm import LinearSVC\n",
    "from sklearn.model_selection import cross_val_score\n",
    "\n",
    "models=[\n",
    "    RandomForestClassifier(n_estimators=200, max_depth=3,\n",
    "                          random_state=0),\n",
    "    LinearSVC(),\n",
    "    MultinomialNB(),\n",
    "    LogisticRegression(random_state=0),\n",
    "]\n",
    "CV=10\n",
    "cv_df = pd.DataFrame(index=range(CV*len(models)))\n",
    "entris=[]\n",
    "for model in models:\n",
    "    model_name = model.__class__.__name__\n",
    "    accuracies = cross_val_score(model, features, labels,\n",
    "                                scoring = 'accuracy', cv=CV)\n",
    "    for fold_idx, accuracy in enumerate(accuracies):\n",
    "        entris.append((model_name,fold_idx, accuracy))\n",
    "cv_df = pd.DataFrame(entris,columns=['model_name','fold_idx',\n",
    "                                         'accuracy'])\n",
    "x_label=['RandomForest','LinearSVC','MultinomialNB','LogisticRegression']\n",
    "import seaborn as sns\n",
    "fg=sns.boxplot(x='model_name', y='accuracy', data=cv_df)\n",
    "fg=sns.stripplot(x='model_name', y = 'accuracy', data=cv_df,\n",
    "             size=8, jitter=True, edgecolor='gray', linewidth=2)\n",
    "# plt.show()\n",
    "fg.set_xticklabels(x_label, rotation=45)\n",
    "fg.figure.savefig('classifiercompare.png',bbox_inches='tight')"
   ]
  },
  {
   "cell_type": "code",
   "execution_count": 34,
   "metadata": {},
   "outputs": [
    {
     "data": {
      "text/plain": [
       "model_name\n",
       "LinearSVC                 0.691667\n",
       "LogisticRegression        0.691667\n",
       "MultinomialNB             0.666667\n",
       "RandomForestClassifier    0.741667\n",
       "Name: accuracy, dtype: float64"
      ]
     },
     "execution_count": 34,
     "metadata": {},
     "output_type": "execute_result"
    }
   ],
   "source": [
    "cv_df.groupby('model_name').accuracy.mean()"
   ]
  },
  {
   "cell_type": "code",
   "execution_count": 40,
   "metadata": {},
   "outputs": [],
   "source": [
    "#use LinearSVC for modeling\n",
    "model = RandomForestClassifier()\n",
    "X_train, X_test, y_train, y_test, indices_train, indices_test = train_test_split(features, labels, data.index, test_size=0.33, random_state=0)\n",
    "model.fit(X_train, y_train)\n",
    "y_pred = model.predict(X_test)"
   ]
  },
  {
   "cell_type": "code",
   "execution_count": 43,
   "metadata": {},
   "outputs": [
    {
     "data": {
      "text/plain": [
       "{'bootstrap': True,\n",
       " 'ccp_alpha': 0.0,\n",
       " 'class_weight': None,\n",
       " 'criterion': 'gini',\n",
       " 'max_depth': None,\n",
       " 'max_features': 'auto',\n",
       " 'max_leaf_nodes': None,\n",
       " 'max_samples': None,\n",
       " 'min_impurity_decrease': 0.0,\n",
       " 'min_impurity_split': None,\n",
       " 'min_samples_leaf': 1,\n",
       " 'min_samples_split': 2,\n",
       " 'min_weight_fraction_leaf': 0.0,\n",
       " 'n_estimators': 100,\n",
       " 'n_jobs': None,\n",
       " 'oob_score': False,\n",
       " 'random_state': None,\n",
       " 'verbose': 0,\n",
       " 'warm_start': False}"
      ]
     },
     "execution_count": 43,
     "metadata": {},
     "output_type": "execute_result"
    }
   ],
   "source": [
    "model.get_params()"
   ]
  },
  {
   "cell_type": "code",
   "execution_count": 41,
   "metadata": {},
   "outputs": [
    {
     "name": "stdout",
     "output_type": "stream",
     "text": [
      "Confusion Matrix\n",
      "\n",
      "[[0 2 2]\n",
      " [0 4 1]\n",
      " [0 0 3]]\n"
     ]
    },
    {
     "data": {
      "text/plain": [
       "<sklearn.metrics._plot.confusion_matrix.ConfusionMatrixDisplay at 0x1b93b22f748>"
      ]
     },
     "execution_count": 41,
     "metadata": {},
     "output_type": "execute_result"
    },
    {
     "data": {
      "image/png": "[encoded data removed]",
      "text/plain": [
       "<Figure size 432x288 with 2 Axes>"
      ]
     },
     "metadata": {
      "needs_background": "light"
     },
     "output_type": "display_data"
    }
   ],
   "source": [
    "#importing confusion matrix\n",
    "from sklearn.metrics import confusion_matrix\n",
    "from sklearn.metrics import plot_confusion_matrix\n",
    "confusion = confusion_matrix(y_test, y_pred)\n",
    "print('Confusion Matrix\\n')\n",
    "print(confusion)\n",
    "plot_confusion_matrix(model,X_test,y_test)\n"
   ]
  },
  {
   "cell_type": "code",
   "execution_count": 37,
   "metadata": {},
   "outputs": [
    {
     "name": "stdout",
     "output_type": "stream",
     "text": [
      "              precision    recall  f1-score   support\n",
      "\n",
      "      class1       1.00      0.25      0.40         4\n",
      "      class2       0.67      0.80      0.73         5\n",
      "      class3       0.60      1.00      0.75         3\n",
      "\n",
      "    accuracy                           0.67        12\n",
      "   macro avg       0.76      0.68      0.63        12\n",
      "weighted avg       0.76      0.67      0.62        12\n",
      "\n"
     ]
    }
   ],
   "source": [
    "from sklearn import metrics\n",
    "print(metrics.classification_report(y_test,y_pred,\n",
    "                target_names=['class1','class2','class3']))"
   ]
  }
 ],
 "metadata": {
  "kernelspec": {
   "display_name": "Python 3",
   "language": "python",
   "name": "python3"
  },
  "language_info": {
   "codemirror_mode": {
    "name": "ipython",
    "version": 3
   },
   "file_extension": ".py",
   "mimetype": "text/x-python",
   "name": "python",
   "nbconvert_exporter": "python",
   "pygments_lexer": "ipython3",
   "version": "3.7.1"
  }
 },
 "nbformat": 4,
 "nbformat_minor": 4
}
